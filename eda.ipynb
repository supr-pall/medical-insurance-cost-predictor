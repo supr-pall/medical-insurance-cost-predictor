# eda.ipynb
import pandas as pd
import matplotlib.pyplot as plt

df = pd.read_csv("insurance.csv")
print(df.head())
print(df.describe())

# Plot histogram
df["age"].hist()
plt.title("Age Distribution")
plt.show()
